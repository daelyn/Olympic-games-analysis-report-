{
 "cells": [
  {
   "cell_type": "markdown",
   "metadata": {},
   "source": [
    "# <font color = red > _Daelyn Oliveira_ <font>"
   ]
  },
  {
   "cell_type": "markdown",
   "metadata": {},
   "source": [
    "## <font color = blue > _Module 1 Report<font> -<font color = blue> Olympic Games_ <font>"
   ]
  },
  {
   "cell_type": "markdown",
   "metadata": {},
   "source": [
    "## 1. Objective of the Proposed Research <br>"
   ]
  },
  {
   "cell_type": "markdown",
   "metadata": {},
   "source": [
    "Kellog's is a multinational food manufactoring company. Kellog's provides Cereal, Toaster Pastries, Special K, Nutri Grain Bars, Pop Tarts, Krispies for breakfast. Kellog's is already a food brand that is very popular among kids and youngsters. <br>\n",
    "\n",
    "People of all ages have cereal but young men and women between the age group of 18 to 34 years are most likely to have cereal be it hot or cold. Cereal is a convenient breakfast serving which doesn't take long to prepare and is very tasty too. There are different flavours and types available which caters to different likings of different people. <br>\n",
    "\n",
    "Kellog's is going to be one of the main sponsors for the next Olympic games. They want the right sport and athlete to sponsor. Being able to find the right athlete to sponsor gives the brand more revenue as the right athlete will advertise for the brand which gets the audiences attention and does exactly what is needed. "
   ]
  },
  {
   "cell_type": "markdown",
   "metadata": {},
   "source": [
    "***"
   ]
  },
  {
   "cell_type": "markdown",
   "metadata": {},
   "source": [
    "## 2. Data Exploration"
   ]
  },
  {
   "cell_type": "markdown",
   "metadata": {},
   "source": [
    "We first import the data in csv format and also strings aren't converted to factors. "
   ]
  },
  {
   "cell_type": "code",
   "execution_count": 2,
   "metadata": {},
   "outputs": [],
   "source": [
    "athletes <- read.csv(\"athlete_events.csv\", stringsAsFactors = F)"
   ]
  },
  {
   "cell_type": "markdown",
   "metadata": {},
   "source": [
    "The below code shows the first 5 rows."
   ]
  },
  {
   "cell_type": "code",
   "execution_count": 45,
   "metadata": {},
   "outputs": [
    {
     "data": {
      "text/html": [
       "<table>\n",
       "<thead><tr><th scope=col>ID</th><th scope=col>Name</th><th scope=col>Sex</th><th scope=col>Age</th><th scope=col>Height</th><th scope=col>Weight</th><th scope=col>Team</th><th scope=col>NOC</th><th scope=col>Games</th><th scope=col>Year</th><th scope=col>Season</th><th scope=col>City</th><th scope=col>Sport</th><th scope=col>Event</th><th scope=col>Medal</th></tr></thead>\n",
       "<tbody>\n",
       "\t<tr><td>1                               </td><td>A Dijiang                       </td><td>M                               </td><td>24                              </td><td>180                             </td><td>80                              </td><td>China                           </td><td>CHN                             </td><td>1992 Summer                     </td><td>1992                            </td><td>Summer                          </td><td>Barcelona                       </td><td>Basketball                      </td><td>Basketball Men's Basketball     </td><td>NA                              </td></tr>\n",
       "\t<tr><td>2                               </td><td>A Lamusi                        </td><td>M                               </td><td>23                              </td><td>170                             </td><td>60                              </td><td>China                           </td><td>CHN                             </td><td>2012 Summer                     </td><td>2012                            </td><td>Summer                          </td><td>London                          </td><td>Judo                            </td><td>Judo Men's Extra-Lightweight    </td><td>NA                              </td></tr>\n",
       "\t<tr><td>3                               </td><td>Gunnar Nielsen Aaby             </td><td>M                               </td><td>24                              </td><td> NA                             </td><td>NA                              </td><td>Denmark                         </td><td>DEN                             </td><td>1920 Summer                     </td><td>1920                            </td><td>Summer                          </td><td>Antwerpen                       </td><td>Football                        </td><td>Football Men's Football         </td><td>NA                              </td></tr>\n",
       "\t<tr><td>4                               </td><td>Edgar Lindenau Aabye            </td><td>M                               </td><td>34                              </td><td> NA                             </td><td>NA                              </td><td>Denmark/Sweden                  </td><td>DEN                             </td><td>1900 Summer                     </td><td>1900                            </td><td>Summer                          </td><td>Paris                           </td><td>Tug-Of-War                      </td><td>Tug-Of-War Men's Tug-Of-War     </td><td>Gold                            </td></tr>\n",
       "\t<tr><td>5                               </td><td>Christine Jacoba Aaftink        </td><td>F                               </td><td>21                              </td><td>185                             </td><td>82                              </td><td>Netherlands                     </td><td>NED                             </td><td>1988 Winter                     </td><td>1988                            </td><td>Winter                          </td><td>Calgary                         </td><td>Speed Skating                   </td><td>Speed Skating Women's 500 metres</td><td>NA                              </td></tr>\n",
       "</tbody>\n",
       "</table>\n"
      ],
      "text/latex": [
       "\\begin{tabular}{r|lllllllllllllll}\n",
       " ID & Name & Sex & Age & Height & Weight & Team & NOC & Games & Year & Season & City & Sport & Event & Medal\\\\\n",
       "\\hline\n",
       "\t 1                                & A Dijiang                        & M                                & 24                               & 180                              & 80                               & China                            & CHN                              & 1992 Summer                      & 1992                             & Summer                           & Barcelona                        & Basketball                       & Basketball Men's Basketball      & NA                              \\\\\n",
       "\t 2                                & A Lamusi                         & M                                & 23                               & 170                              & 60                               & China                            & CHN                              & 2012 Summer                      & 2012                             & Summer                           & London                           & Judo                             & Judo Men's Extra-Lightweight     & NA                              \\\\\n",
       "\t 3                                & Gunnar Nielsen Aaby              & M                                & 24                               &  NA                              & NA                               & Denmark                          & DEN                              & 1920 Summer                      & 1920                             & Summer                           & Antwerpen                        & Football                         & Football Men's Football          & NA                              \\\\\n",
       "\t 4                                & Edgar Lindenau Aabye             & M                                & 34                               &  NA                              & NA                               & Denmark/Sweden                   & DEN                              & 1900 Summer                      & 1900                             & Summer                           & Paris                            & Tug-Of-War                       & Tug-Of-War Men's Tug-Of-War      & Gold                            \\\\\n",
       "\t 5                                & Christine Jacoba Aaftink         & F                                & 21                               & 185                              & 82                               & Netherlands                      & NED                              & 1988 Winter                      & 1988                             & Winter                           & Calgary                          & Speed Skating                    & Speed Skating Women's 500 metres & NA                              \\\\\n",
       "\\end{tabular}\n"
      ],
      "text/markdown": [
       "\n",
       "| ID | Name | Sex | Age | Height | Weight | Team | NOC | Games | Year | Season | City | Sport | Event | Medal |\n",
       "|---|---|---|---|---|---|---|---|---|---|---|---|---|---|---|\n",
       "| 1                                | A Dijiang                        | M                                | 24                               | 180                              | 80                               | China                            | CHN                              | 1992 Summer                      | 1992                             | Summer                           | Barcelona                        | Basketball                       | Basketball Men's Basketball      | NA                               |\n",
       "| 2                                | A Lamusi                         | M                                | 23                               | 170                              | 60                               | China                            | CHN                              | 2012 Summer                      | 2012                             | Summer                           | London                           | Judo                             | Judo Men's Extra-Lightweight     | NA                               |\n",
       "| 3                                | Gunnar Nielsen Aaby              | M                                | 24                               |  NA                              | NA                               | Denmark                          | DEN                              | 1920 Summer                      | 1920                             | Summer                           | Antwerpen                        | Football                         | Football Men's Football          | NA                               |\n",
       "| 4                                | Edgar Lindenau Aabye             | M                                | 34                               |  NA                              | NA                               | Denmark/Sweden                   | DEN                              | 1900 Summer                      | 1900                             | Summer                           | Paris                            | Tug-Of-War                       | Tug-Of-War Men's Tug-Of-War      | Gold                             |\n",
       "| 5                                | Christine Jacoba Aaftink         | F                                | 21                               | 185                              | 82                               | Netherlands                      | NED                              | 1988 Winter                      | 1988                             | Winter                           | Calgary                          | Speed Skating                    | Speed Skating Women's 500 metres | NA                               |\n",
       "\n"
      ],
      "text/plain": [
       "  ID Name                     Sex Age Height Weight Team           NOC\n",
       "1 1  A Dijiang                M   24  180    80     China          CHN\n",
       "2 2  A Lamusi                 M   23  170    60     China          CHN\n",
       "3 3  Gunnar Nielsen Aaby      M   24   NA    NA     Denmark        DEN\n",
       "4 4  Edgar Lindenau Aabye     M   34   NA    NA     Denmark/Sweden DEN\n",
       "5 5  Christine Jacoba Aaftink F   21  185    82     Netherlands    NED\n",
       "  Games       Year Season City      Sport        \n",
       "1 1992 Summer 1992 Summer Barcelona Basketball   \n",
       "2 2012 Summer 2012 Summer London    Judo         \n",
       "3 1920 Summer 1920 Summer Antwerpen Football     \n",
       "4 1900 Summer 1900 Summer Paris     Tug-Of-War   \n",
       "5 1988 Winter 1988 Winter Calgary   Speed Skating\n",
       "  Event                            Medal\n",
       "1 Basketball Men's Basketball      NA   \n",
       "2 Judo Men's Extra-Lightweight     NA   \n",
       "3 Football Men's Football          NA   \n",
       "4 Tug-Of-War Men's Tug-Of-War      Gold \n",
       "5 Speed Skating Women's 500 metres NA   "
      ]
     },
     "metadata": {},
     "output_type": "display_data"
    }
   ],
   "source": [
    "head(athletes, n=5)"
   ]
  },
  {
   "cell_type": "markdown",
   "metadata": {},
   "source": [
    "The below code displays the bottom 5 rows."
   ]
  },
  {
   "cell_type": "code",
   "execution_count": 46,
   "metadata": {},
   "outputs": [
    {
     "data": {
      "text/html": [
       "<table>\n",
       "<thead><tr><th></th><th scope=col>ID</th><th scope=col>Name</th><th scope=col>Sex</th><th scope=col>Age</th><th scope=col>Height</th><th scope=col>Weight</th><th scope=col>Team</th><th scope=col>NOC</th><th scope=col>Games</th><th scope=col>Year</th><th scope=col>Season</th><th scope=col>City</th><th scope=col>Sport</th><th scope=col>Event</th><th scope=col>Medal</th></tr></thead>\n",
       "<tbody>\n",
       "\t<tr><th scope=row>271112</th><td>135569                                  </td><td>Andrzej ya                              </td><td>M                                       </td><td>29                                      </td><td>179                                     </td><td>89                                      </td><td>Poland-1                                </td><td>POL                                     </td><td>1976 Winter                             </td><td>1976                                    </td><td>Winter                                  </td><td>Innsbruck                               </td><td>Luge                                    </td><td>Luge Mixed (Men)'s Doubles              </td><td>NA                                      </td></tr>\n",
       "\t<tr><th scope=row>271113</th><td>135570                                  </td><td>Piotr ya                                </td><td>M                                       </td><td>27                                      </td><td>176                                     </td><td>59                                      </td><td>Poland                                  </td><td>POL                                     </td><td>2014 Winter                             </td><td>2014                                    </td><td>Winter                                  </td><td>Sochi                                   </td><td>Ski Jumping                             </td><td>Ski Jumping Men's Large Hill, Individual</td><td>NA                                      </td></tr>\n",
       "\t<tr><th scope=row>271114</th><td>135570                                  </td><td>Piotr ya                                </td><td>M                                       </td><td>27                                      </td><td>176                                     </td><td>59                                      </td><td>Poland                                  </td><td>POL                                     </td><td>2014 Winter                             </td><td>2014                                    </td><td>Winter                                  </td><td>Sochi                                   </td><td>Ski Jumping                             </td><td>Ski Jumping Men's Large Hill, Team      </td><td>NA                                      </td></tr>\n",
       "\t<tr><th scope=row>271115</th><td>135571                                  </td><td>Tomasz Ireneusz ya                      </td><td>M                                       </td><td>30                                      </td><td>185                                     </td><td>96                                      </td><td>Poland                                  </td><td>POL                                     </td><td>1998 Winter                             </td><td>1998                                    </td><td>Winter                                  </td><td>Nagano                                  </td><td>Bobsleigh                               </td><td>Bobsleigh Men's Four                    </td><td>NA                                      </td></tr>\n",
       "\t<tr><th scope=row>271116</th><td>135571                                  </td><td>Tomasz Ireneusz ya                      </td><td>M                                       </td><td>34                                      </td><td>185                                     </td><td>96                                      </td><td>Poland                                  </td><td>POL                                     </td><td>2002 Winter                             </td><td>2002                                    </td><td>Winter                                  </td><td>Salt Lake City                          </td><td>Bobsleigh                               </td><td>Bobsleigh Men's Four                    </td><td>NA                                      </td></tr>\n",
       "</tbody>\n",
       "</table>\n"
      ],
      "text/latex": [
       "\\begin{tabular}{r|lllllllllllllll}\n",
       "  & ID & Name & Sex & Age & Height & Weight & Team & NOC & Games & Year & Season & City & Sport & Event & Medal\\\\\n",
       "\\hline\n",
       "\t271112 & 135569                                   & Andrzej ya                               & M                                        & 29                                       & 179                                      & 89                                       & Poland-1                                 & POL                                      & 1976 Winter                              & 1976                                     & Winter                                   & Innsbruck                                & Luge                                     & Luge Mixed (Men)'s Doubles               & NA                                      \\\\\n",
       "\t271113 & 135570                                   & Piotr ya                                 & M                                        & 27                                       & 176                                      & 59                                       & Poland                                   & POL                                      & 2014 Winter                              & 2014                                     & Winter                                   & Sochi                                    & Ski Jumping                              & Ski Jumping Men's Large Hill, Individual & NA                                      \\\\\n",
       "\t271114 & 135570                                   & Piotr ya                                 & M                                        & 27                                       & 176                                      & 59                                       & Poland                                   & POL                                      & 2014 Winter                              & 2014                                     & Winter                                   & Sochi                                    & Ski Jumping                              & Ski Jumping Men's Large Hill, Team       & NA                                      \\\\\n",
       "\t271115 & 135571                                   & Tomasz Ireneusz ya                       & M                                        & 30                                       & 185                                      & 96                                       & Poland                                   & POL                                      & 1998 Winter                              & 1998                                     & Winter                                   & Nagano                                   & Bobsleigh                                & Bobsleigh Men's Four                     & NA                                      \\\\\n",
       "\t271116 & 135571                                   & Tomasz Ireneusz ya                       & M                                        & 34                                       & 185                                      & 96                                       & Poland                                   & POL                                      & 2002 Winter                              & 2002                                     & Winter                                   & Salt Lake City                           & Bobsleigh                                & Bobsleigh Men's Four                     & NA                                      \\\\\n",
       "\\end{tabular}\n"
      ],
      "text/markdown": [
       "\n",
       "| <!--/--> | ID | Name | Sex | Age | Height | Weight | Team | NOC | Games | Year | Season | City | Sport | Event | Medal |\n",
       "|---|---|---|---|---|---|---|---|---|---|---|---|---|---|---|---|\n",
       "| 271112 | 135569                                   | Andrzej ya                               | M                                        | 29                                       | 179                                      | 89                                       | Poland-1                                 | POL                                      | 1976 Winter                              | 1976                                     | Winter                                   | Innsbruck                                | Luge                                     | Luge Mixed (Men)'s Doubles               | NA                                       |\n",
       "| 271113 | 135570                                   | Piotr ya                                 | M                                        | 27                                       | 176                                      | 59                                       | Poland                                   | POL                                      | 2014 Winter                              | 2014                                     | Winter                                   | Sochi                                    | Ski Jumping                              | Ski Jumping Men's Large Hill, Individual | NA                                       |\n",
       "| 271114 | 135570                                   | Piotr ya                                 | M                                        | 27                                       | 176                                      | 59                                       | Poland                                   | POL                                      | 2014 Winter                              | 2014                                     | Winter                                   | Sochi                                    | Ski Jumping                              | Ski Jumping Men's Large Hill, Team       | NA                                       |\n",
       "| 271115 | 135571                                   | Tomasz Ireneusz ya                       | M                                        | 30                                       | 185                                      | 96                                       | Poland                                   | POL                                      | 1998 Winter                              | 1998                                     | Winter                                   | Nagano                                   | Bobsleigh                                | Bobsleigh Men's Four                     | NA                                       |\n",
       "| 271116 | 135571                                   | Tomasz Ireneusz ya                       | M                                        | 34                                       | 185                                      | 96                                       | Poland                                   | POL                                      | 2002 Winter                              | 2002                                     | Winter                                   | Salt Lake City                           | Bobsleigh                                | Bobsleigh Men's Four                     | NA                                       |\n",
       "\n"
      ],
      "text/plain": [
       "       ID     Name               Sex Age Height Weight Team     NOC Games      \n",
       "271112 135569 Andrzej ya         M   29  179    89     Poland-1 POL 1976 Winter\n",
       "271113 135570 Piotr ya           M   27  176    59     Poland   POL 2014 Winter\n",
       "271114 135570 Piotr ya           M   27  176    59     Poland   POL 2014 Winter\n",
       "271115 135571 Tomasz Ireneusz ya M   30  185    96     Poland   POL 1998 Winter\n",
       "271116 135571 Tomasz Ireneusz ya M   34  185    96     Poland   POL 2002 Winter\n",
       "       Year Season City           Sport      \n",
       "271112 1976 Winter Innsbruck      Luge       \n",
       "271113 2014 Winter Sochi          Ski Jumping\n",
       "271114 2014 Winter Sochi          Ski Jumping\n",
       "271115 1998 Winter Nagano         Bobsleigh  \n",
       "271116 2002 Winter Salt Lake City Bobsleigh  \n",
       "       Event                                    Medal\n",
       "271112 Luge Mixed (Men)'s Doubles               NA   \n",
       "271113 Ski Jumping Men's Large Hill, Individual NA   \n",
       "271114 Ski Jumping Men's Large Hill, Team       NA   \n",
       "271115 Bobsleigh Men's Four                     NA   \n",
       "271116 Bobsleigh Men's Four                     NA   "
      ]
     },
     "metadata": {},
     "output_type": "display_data"
    }
   ],
   "source": [
    "tail(athletes, n=5)"
   ]
  },
  {
   "cell_type": "markdown",
   "metadata": {},
   "source": [
    "Let's see how many rows this dataset contains."
   ]
  },
  {
   "cell_type": "code",
   "execution_count": 5,
   "metadata": {},
   "outputs": [
    {
     "data": {
      "text/html": [
       "271116"
      ],
      "text/latex": [
       "271116"
      ],
      "text/markdown": [
       "271116"
      ],
      "text/plain": [
       "[1] 271116"
      ]
     },
     "metadata": {},
     "output_type": "display_data"
    }
   ],
   "source": [
    "nrow(athletes)"
   ]
  },
  {
   "cell_type": "markdown",
   "metadata": {},
   "source": [
    "Let's check how many columns this dataset contains."
   ]
  },
  {
   "cell_type": "code",
   "execution_count": 6,
   "metadata": {},
   "outputs": [
    {
     "data": {
      "text/html": [
       "15"
      ],
      "text/latex": [
       "15"
      ],
      "text/markdown": [
       "15"
      ],
      "text/plain": [
       "[1] 15"
      ]
     },
     "metadata": {},
     "output_type": "display_data"
    }
   ],
   "source": [
    "ncol(athletes)"
   ]
  },
  {
   "cell_type": "markdown",
   "metadata": {},
   "source": [
    "***"
   ]
  },
  {
   "cell_type": "markdown",
   "metadata": {},
   "source": [
    "## 3. One column selection"
   ]
  },
  {
   "cell_type": "markdown",
   "metadata": {},
   "source": [
    "Below we retrieve first 10 rows and name, age and sport column of athletes below the age of 34."
   ]
  },
  {
   "cell_type": "code",
   "execution_count": 121,
   "metadata": {
    "scrolled": true
   },
   "outputs": [
    {
     "data": {
      "text/html": [
       "<table>\n",
       "<thead><tr><th></th><th scope=col>Name</th><th scope=col>Age</th><th scope=col>Sport</th></tr></thead>\n",
       "<tbody>\n",
       "\t<tr><th scope=row>1</th><td>A Dijiang               </td><td>24                      </td><td>Basketball              </td></tr>\n",
       "\t<tr><th scope=row>2</th><td>A Lamusi                </td><td>23                      </td><td>Judo                    </td></tr>\n",
       "\t<tr><th scope=row>3</th><td>Gunnar Nielsen Aaby     </td><td>24                      </td><td>Football                </td></tr>\n",
       "\t<tr><th scope=row>5</th><td>Christine Jacoba Aaftink</td><td>21                      </td><td>Speed Skating           </td></tr>\n",
       "\t<tr><th scope=row>6</th><td>Christine Jacoba Aaftink</td><td>21                      </td><td>Speed Skating           </td></tr>\n",
       "\t<tr><th scope=row>7</th><td>Christine Jacoba Aaftink</td><td>25                      </td><td>Speed Skating           </td></tr>\n",
       "\t<tr><th scope=row>8</th><td>Christine Jacoba Aaftink</td><td>25                      </td><td>Speed Skating           </td></tr>\n",
       "\t<tr><th scope=row>9</th><td>Christine Jacoba Aaftink</td><td>27                      </td><td>Speed Skating           </td></tr>\n",
       "\t<tr><th scope=row>10</th><td>Christine Jacoba Aaftink</td><td>27                      </td><td>Speed Skating           </td></tr>\n",
       "\t<tr><th scope=row>11</th><td>Per Knut Aaland         </td><td>31                      </td><td>Cross Country Skiing    </td></tr>\n",
       "</tbody>\n",
       "</table>\n"
      ],
      "text/latex": [
       "\\begin{tabular}{r|lll}\n",
       "  & Name & Age & Sport\\\\\n",
       "\\hline\n",
       "\t1 & A Dijiang                & 24                       & Basketball              \\\\\n",
       "\t2 & A Lamusi                 & 23                       & Judo                    \\\\\n",
       "\t3 & Gunnar Nielsen Aaby      & 24                       & Football                \\\\\n",
       "\t5 & Christine Jacoba Aaftink & 21                       & Speed Skating           \\\\\n",
       "\t6 & Christine Jacoba Aaftink & 21                       & Speed Skating           \\\\\n",
       "\t7 & Christine Jacoba Aaftink & 25                       & Speed Skating           \\\\\n",
       "\t8 & Christine Jacoba Aaftink & 25                       & Speed Skating           \\\\\n",
       "\t9 & Christine Jacoba Aaftink & 27                       & Speed Skating           \\\\\n",
       "\t10 & Christine Jacoba Aaftink & 27                       & Speed Skating           \\\\\n",
       "\t11 & Per Knut Aaland          & 31                       & Cross Country Skiing    \\\\\n",
       "\\end{tabular}\n"
      ],
      "text/markdown": [
       "\n",
       "| <!--/--> | Name | Age | Sport |\n",
       "|---|---|---|---|\n",
       "| 1 | A Dijiang                | 24                       | Basketball               |\n",
       "| 2 | A Lamusi                 | 23                       | Judo                     |\n",
       "| 3 | Gunnar Nielsen Aaby      | 24                       | Football                 |\n",
       "| 5 | Christine Jacoba Aaftink | 21                       | Speed Skating            |\n",
       "| 6 | Christine Jacoba Aaftink | 21                       | Speed Skating            |\n",
       "| 7 | Christine Jacoba Aaftink | 25                       | Speed Skating            |\n",
       "| 8 | Christine Jacoba Aaftink | 25                       | Speed Skating            |\n",
       "| 9 | Christine Jacoba Aaftink | 27                       | Speed Skating            |\n",
       "| 10 | Christine Jacoba Aaftink | 27                       | Speed Skating            |\n",
       "| 11 | Per Knut Aaland          | 31                       | Cross Country Skiing     |\n",
       "\n"
      ],
      "text/plain": [
       "   Name                     Age Sport               \n",
       "1  A Dijiang                24  Basketball          \n",
       "2  A Lamusi                 23  Judo                \n",
       "3  Gunnar Nielsen Aaby      24  Football            \n",
       "5  Christine Jacoba Aaftink 21  Speed Skating       \n",
       "6  Christine Jacoba Aaftink 21  Speed Skating       \n",
       "7  Christine Jacoba Aaftink 25  Speed Skating       \n",
       "8  Christine Jacoba Aaftink 25  Speed Skating       \n",
       "9  Christine Jacoba Aaftink 27  Speed Skating       \n",
       "10 Christine Jacoba Aaftink 27  Speed Skating       \n",
       "11 Per Knut Aaland          31  Cross Country Skiing"
      ]
     },
     "metadata": {},
     "output_type": "display_data"
    }
   ],
   "source": [
    "head(athletes[athletes$Age < 34, c(\"Name\", \"Age\", \"Sport\")], n=10)"
   ]
  },
  {
   "cell_type": "markdown",
   "metadata": {},
   "source": [
    "***"
   ]
  },
  {
   "cell_type": "markdown",
   "metadata": {},
   "source": [
    "## 4. Series"
   ]
  },
  {
   "cell_type": "markdown",
   "metadata": {},
   "source": [
    "Since this dataset has a lot of NA values , to get a more clean retrieval and display we will omit all the rows having any column value as NA. "
   ]
  },
  {
   "cell_type": "code",
   "execution_count": 13,
   "metadata": {},
   "outputs": [],
   "source": [
    "athlete <- na.omit(athletes)"
   ]
  },
  {
   "cell_type": "markdown",
   "metadata": {},
   "source": [
    "Now we display the first 6 rows of the dataset after omitting the rows with NA values. "
   ]
  },
  {
   "cell_type": "code",
   "execution_count": 52,
   "metadata": {},
   "outputs": [
    {
     "data": {
      "text/html": [
       "<table>\n",
       "<thead><tr><th></th><th scope=col>ID</th><th scope=col>Name</th><th scope=col>Sex</th><th scope=col>Age</th><th scope=col>Height</th><th scope=col>Weight</th><th scope=col>Team</th><th scope=col>NOC</th><th scope=col>Games</th><th scope=col>Year</th><th scope=col>Season</th><th scope=col>City</th><th scope=col>Sport</th><th scope=col>Event</th><th scope=col>Medal</th></tr></thead>\n",
       "<tbody>\n",
       "\t<tr><th scope=row>41</th><td>16                                    </td><td>Juhamatti Tapio Aaltonen              </td><td>M                                     </td><td>28                                    </td><td>184                                   </td><td>85                                    </td><td>Finland                               </td><td>FIN                                   </td><td>2014 Winter                           </td><td>2014                                  </td><td>Winter                                </td><td>Sochi                                 </td><td>Ice Hockey                            </td><td>Ice Hockey Men's Ice Hockey           </td><td>Bronze                                </td></tr>\n",
       "\t<tr><th scope=row>42</th><td>17                                    </td><td>Paavo Johannes Aaltonen               </td><td>M                                     </td><td>28                                    </td><td>175                                   </td><td>64                                    </td><td>Finland                               </td><td>FIN                                   </td><td>1948 Summer                           </td><td>1948                                  </td><td>Summer                                </td><td>London                                </td><td>Gymnastics                            </td><td>Gymnastics Men's Individual All-Around</td><td>Bronze                                </td></tr>\n",
       "\t<tr><th scope=row>43</th><td>17                                    </td><td>Paavo Johannes Aaltonen               </td><td>M                                     </td><td>28                                    </td><td>175                                   </td><td>64                                    </td><td>Finland                               </td><td>FIN                                   </td><td>1948 Summer                           </td><td>1948                                  </td><td>Summer                                </td><td>London                                </td><td>Gymnastics                            </td><td>Gymnastics Men's Team All-Around      </td><td>Gold                                  </td></tr>\n",
       "\t<tr><th scope=row>45</th><td>17                                    </td><td>Paavo Johannes Aaltonen               </td><td>M                                     </td><td>28                                    </td><td>175                                   </td><td>64                                    </td><td>Finland                               </td><td>FIN                                   </td><td>1948 Summer                           </td><td>1948                                  </td><td>Summer                                </td><td>London                                </td><td>Gymnastics                            </td><td>Gymnastics Men's Horse Vault          </td><td>Gold                                  </td></tr>\n",
       "\t<tr><th scope=row>49</th><td>17                                    </td><td>Paavo Johannes Aaltonen               </td><td>M                                     </td><td>28                                    </td><td>175                                   </td><td>64                                    </td><td>Finland                               </td><td>FIN                                   </td><td>1948 Summer                           </td><td>1948                                  </td><td>Summer                                </td><td>London                                </td><td>Gymnastics                            </td><td>Gymnastics Men's Pommelled Horse      </td><td>Gold                                  </td></tr>\n",
       "\t<tr><th scope=row>51</th><td>17                                    </td><td>Paavo Johannes Aaltonen               </td><td>M                                     </td><td>32                                    </td><td>175                                   </td><td>64                                    </td><td>Finland                               </td><td>FIN                                   </td><td>1952 Summer                           </td><td>1952                                  </td><td>Summer                                </td><td>Helsinki                              </td><td>Gymnastics                            </td><td>Gymnastics Men's Team All-Around      </td><td>Bronze                                </td></tr>\n",
       "</tbody>\n",
       "</table>\n"
      ],
      "text/latex": [
       "\\begin{tabular}{r|lllllllllllllll}\n",
       "  & ID & Name & Sex & Age & Height & Weight & Team & NOC & Games & Year & Season & City & Sport & Event & Medal\\\\\n",
       "\\hline\n",
       "\t41 & 16                                     & Juhamatti Tapio Aaltonen               & M                                      & 28                                     & 184                                    & 85                                     & Finland                                & FIN                                    & 2014 Winter                            & 2014                                   & Winter                                 & Sochi                                  & Ice Hockey                             & Ice Hockey Men's Ice Hockey            & Bronze                                \\\\\n",
       "\t42 & 17                                     & Paavo Johannes Aaltonen                & M                                      & 28                                     & 175                                    & 64                                     & Finland                                & FIN                                    & 1948 Summer                            & 1948                                   & Summer                                 & London                                 & Gymnastics                             & Gymnastics Men's Individual All-Around & Bronze                                \\\\\n",
       "\t43 & 17                                     & Paavo Johannes Aaltonen                & M                                      & 28                                     & 175                                    & 64                                     & Finland                                & FIN                                    & 1948 Summer                            & 1948                                   & Summer                                 & London                                 & Gymnastics                             & Gymnastics Men's Team All-Around       & Gold                                  \\\\\n",
       "\t45 & 17                                     & Paavo Johannes Aaltonen                & M                                      & 28                                     & 175                                    & 64                                     & Finland                                & FIN                                    & 1948 Summer                            & 1948                                   & Summer                                 & London                                 & Gymnastics                             & Gymnastics Men's Horse Vault           & Gold                                  \\\\\n",
       "\t49 & 17                                     & Paavo Johannes Aaltonen                & M                                      & 28                                     & 175                                    & 64                                     & Finland                                & FIN                                    & 1948 Summer                            & 1948                                   & Summer                                 & London                                 & Gymnastics                             & Gymnastics Men's Pommelled Horse       & Gold                                  \\\\\n",
       "\t51 & 17                                     & Paavo Johannes Aaltonen                & M                                      & 32                                     & 175                                    & 64                                     & Finland                                & FIN                                    & 1952 Summer                            & 1952                                   & Summer                                 & Helsinki                               & Gymnastics                             & Gymnastics Men's Team All-Around       & Bronze                                \\\\\n",
       "\\end{tabular}\n"
      ],
      "text/markdown": [
       "\n",
       "| <!--/--> | ID | Name | Sex | Age | Height | Weight | Team | NOC | Games | Year | Season | City | Sport | Event | Medal |\n",
       "|---|---|---|---|---|---|---|---|---|---|---|---|---|---|---|---|\n",
       "| 41 | 16                                     | Juhamatti Tapio Aaltonen               | M                                      | 28                                     | 184                                    | 85                                     | Finland                                | FIN                                    | 2014 Winter                            | 2014                                   | Winter                                 | Sochi                                  | Ice Hockey                             | Ice Hockey Men's Ice Hockey            | Bronze                                 |\n",
       "| 42 | 17                                     | Paavo Johannes Aaltonen                | M                                      | 28                                     | 175                                    | 64                                     | Finland                                | FIN                                    | 1948 Summer                            | 1948                                   | Summer                                 | London                                 | Gymnastics                             | Gymnastics Men's Individual All-Around | Bronze                                 |\n",
       "| 43 | 17                                     | Paavo Johannes Aaltonen                | M                                      | 28                                     | 175                                    | 64                                     | Finland                                | FIN                                    | 1948 Summer                            | 1948                                   | Summer                                 | London                                 | Gymnastics                             | Gymnastics Men's Team All-Around       | Gold                                   |\n",
       "| 45 | 17                                     | Paavo Johannes Aaltonen                | M                                      | 28                                     | 175                                    | 64                                     | Finland                                | FIN                                    | 1948 Summer                            | 1948                                   | Summer                                 | London                                 | Gymnastics                             | Gymnastics Men's Horse Vault           | Gold                                   |\n",
       "| 49 | 17                                     | Paavo Johannes Aaltonen                | M                                      | 28                                     | 175                                    | 64                                     | Finland                                | FIN                                    | 1948 Summer                            | 1948                                   | Summer                                 | London                                 | Gymnastics                             | Gymnastics Men's Pommelled Horse       | Gold                                   |\n",
       "| 51 | 17                                     | Paavo Johannes Aaltonen                | M                                      | 32                                     | 175                                    | 64                                     | Finland                                | FIN                                    | 1952 Summer                            | 1952                                   | Summer                                 | Helsinki                               | Gymnastics                             | Gymnastics Men's Team All-Around       | Bronze                                 |\n",
       "\n"
      ],
      "text/plain": [
       "   ID Name                     Sex Age Height Weight Team    NOC Games      \n",
       "41 16 Juhamatti Tapio Aaltonen M   28  184    85     Finland FIN 2014 Winter\n",
       "42 17 Paavo Johannes Aaltonen  M   28  175    64     Finland FIN 1948 Summer\n",
       "43 17 Paavo Johannes Aaltonen  M   28  175    64     Finland FIN 1948 Summer\n",
       "45 17 Paavo Johannes Aaltonen  M   28  175    64     Finland FIN 1948 Summer\n",
       "49 17 Paavo Johannes Aaltonen  M   28  175    64     Finland FIN 1948 Summer\n",
       "51 17 Paavo Johannes Aaltonen  M   32  175    64     Finland FIN 1952 Summer\n",
       "   Year Season City     Sport      Event                                 \n",
       "41 2014 Winter Sochi    Ice Hockey Ice Hockey Men's Ice Hockey           \n",
       "42 1948 Summer London   Gymnastics Gymnastics Men's Individual All-Around\n",
       "43 1948 Summer London   Gymnastics Gymnastics Men's Team All-Around      \n",
       "45 1948 Summer London   Gymnastics Gymnastics Men's Horse Vault          \n",
       "49 1948 Summer London   Gymnastics Gymnastics Men's Pommelled Horse      \n",
       "51 1952 Summer Helsinki Gymnastics Gymnastics Men's Team All-Around      \n",
       "   Medal \n",
       "41 Bronze\n",
       "42 Bronze\n",
       "43 Gold  \n",
       "45 Gold  \n",
       "49 Gold  \n",
       "51 Bronze"
      ]
     },
     "metadata": {},
     "output_type": "display_data"
    }
   ],
   "source": [
    "head(athlete)"
   ]
  },
  {
   "cell_type": "markdown",
   "metadata": {},
   "source": [
    "Below rows having \"Gold\" value in the Medal column are displayed."
   ]
  },
  {
   "cell_type": "code",
   "execution_count": 40,
   "metadata": {},
   "outputs": [],
   "source": [
    "a <- athlete[athlete$Medal == \"Gold\", c(\"Name\", \"Age\", \"Year\", \"Sport\", \"Medal\")]"
   ]
  },
  {
   "cell_type": "code",
   "execution_count": 41,
   "metadata": {
    "scrolled": true
   },
   "outputs": [
    {
     "data": {
      "text/html": [
       "<table>\n",
       "<thead><tr><th></th><th scope=col>Name</th><th scope=col>Age</th><th scope=col>Year</th><th scope=col>Sport</th><th scope=col>Medal</th></tr></thead>\n",
       "<tbody>\n",
       "\t<tr><th scope=row>43</th><td>Paavo Johannes Aaltonen         </td><td>28                              </td><td>1948                            </td><td>Gymnastics                      </td><td>Gold                            </td></tr>\n",
       "\t<tr><th scope=row>45</th><td>Paavo Johannes Aaltonen         </td><td>28                              </td><td>1948                            </td><td>Gymnastics                      </td><td>Gold                            </td></tr>\n",
       "\t<tr><th scope=row>49</th><td>Paavo Johannes Aaltonen         </td><td>28                              </td><td>1948                            </td><td>Gymnastics                      </td><td>Gold                            </td></tr>\n",
       "\t<tr><th scope=row>61</th><td>Kjetil Andr Aamodt              </td><td>20                              </td><td>1992                            </td><td>Alpine Skiing                   </td><td>Gold                            </td></tr>\n",
       "\t<tr><th scope=row>74</th><td>Kjetil Andr Aamodt              </td><td>30                              </td><td>2002                            </td><td>Alpine Skiing                   </td><td>Gold                            </td></tr>\n",
       "\t<tr><th scope=row>77</th><td>Kjetil Andr Aamodt              </td><td>30                              </td><td>2002                            </td><td>Alpine Skiing                   </td><td>Gold                            </td></tr>\n",
       "\t<tr><th scope=row>79</th><td>Kjetil Andr Aamodt              </td><td>34                              </td><td>2006                            </td><td>Alpine Skiing                   </td><td>Gold                            </td></tr>\n",
       "\t<tr><th scope=row>173</th><td>Aleksey Aleksandrovich Abalmasov</td><td>28                              </td><td>2008                            </td><td>Canoeing                        </td><td>Gold                            </td></tr>\n",
       "\t<tr><th scope=row>174</th><td>Luc Abalo                       </td><td>23                              </td><td>2008                            </td><td>Handball                        </td><td>Gold                            </td></tr>\n",
       "\t<tr><th scope=row>175</th><td>Luc Abalo                       </td><td>27                              </td><td>2012                            </td><td>Handball                        </td><td>Gold                            </td></tr>\n",
       "\t<tr><th scope=row>179</th><td>Jouan Patrice Abanda Etong      </td><td>22                              </td><td>2000                            </td><td>Football                        </td><td>Gold                            </td></tr>\n",
       "\t<tr><th scope=row>183</th><td>Jos Mara Abarca Plotas          </td><td>22                              </td><td>1996                            </td><td>Water Polo                      </td><td>Gold                            </td></tr>\n",
       "\t<tr><th scope=row>189</th><td>Alejandro Abascal Garca         </td><td>28                              </td><td>1980                            </td><td>Sailing                         </td><td>Gold                            </td></tr>\n",
       "\t<tr><th scope=row>201</th><td>Jol Marc Abati                  </td><td>38                              </td><td>2008                            </td><td>Handball                        </td><td>Gold                            </td></tr>\n",
       "\t<tr><th scope=row>219</th><td>Agostino Abbagnale              </td><td>22                              </td><td>1988                            </td><td>Rowing                          </td><td>Gold                            </td></tr>\n",
       "\t<tr><th scope=row>220</th><td>Agostino Abbagnale              </td><td>29                              </td><td>1996                            </td><td>Rowing                          </td><td>Gold                            </td></tr>\n",
       "\t<tr><th scope=row>221</th><td>Agostino Abbagnale              </td><td>34                              </td><td>2000                            </td><td>Rowing                          </td><td>Gold                            </td></tr>\n",
       "\t<tr><th scope=row>222</th><td>Carmine Abbagnale               </td><td>22                              </td><td>1984                            </td><td>Rowing                          </td><td>Gold                            </td></tr>\n",
       "\t<tr><th scope=row>223</th><td>Carmine Abbagnale               </td><td>26                              </td><td>1988                            </td><td>Rowing                          </td><td>Gold                            </td></tr>\n",
       "\t<tr><th scope=row>227</th><td>Giuseppe Abbagnale              </td><td>25                              </td><td>1984                            </td><td>Rowing                          </td><td>Gold                            </td></tr>\n",
       "\t<tr><th scope=row>228</th><td>Giuseppe Abbagnale              </td><td>29                              </td><td>1988                            </td><td>Rowing                          </td><td>Gold                            </td></tr>\n",
       "\t<tr><th scope=row>525</th><td>Lala Abdul Rashid               </td><td>38                              </td><td>1960                            </td><td>Hockey                          </td><td>Gold                            </td></tr>\n",
       "\t<tr><th scope=row>551</th><td>Zagalav Abdulbekovich Abdulbekov</td><td>26                              </td><td>1972                            </td><td>Wrestling                       </td><td>Gold                            </td></tr>\n",
       "\t<tr><th scope=row>588</th><td>Mukhammad Kadyr Abdullayev      </td><td>26                              </td><td>2000                            </td><td>Boxing                          </td><td>Gold                            </td></tr>\n",
       "\t<tr><th scope=row>592</th><td>Namiq Yadulla Abdullayev        </td><td>29                              </td><td>2000                            </td><td>Wrestling                       </td><td>Gold                            </td></tr>\n",
       "\t<tr><th scope=row>610</th><td>Julius Shareef Abdur-Rahim      </td><td>23                              </td><td>2000                            </td><td>Basketball                      </td><td>Gold                            </td></tr>\n",
       "\t<tr><th scope=row>621</th><td>Andrey Khakimovich Abduvaliyev  </td><td>26                              </td><td>1992                            </td><td>Athletics                       </td><td>Gold                            </td></tr>\n",
       "\t<tr><th scope=row>637</th><td>Masashi Abe                     </td><td>28                              </td><td>1994                            </td><td>Nordic Combined                 </td><td>Gold                            </td></tr>\n",
       "\t<tr><th scope=row>721</th><td>Gezahgne Abera                  </td><td>22                              </td><td>2000                            </td><td>Athletics                       </td><td>Gold                            </td></tr>\n",
       "\t<tr><th scope=row>740</th><td>Michael Brent Abernathy         </td><td>22                              </td><td>2000                            </td><td>Baseball                        </td><td>Gold                            </td></tr>\n",
       "\t<tr><th scope=row>...</th><td>...</td><td>...</td><td>...</td><td>...</td><td>...</td></tr>\n",
       "\t<tr><th scope=row>270307</th><td>Urka olnir                               </td><td>30                                       </td><td>2012                                     </td><td>Judo                                     </td><td>Gold                                     </td></tr>\n",
       "\t<tr><th scope=row>270327</th><td>Epke Jan Zonderland                      </td><td>26                                       </td><td>2012                                     </td><td>Gymnastics                               </td><td>Gold                                     </td></tr>\n",
       "\t<tr><th scope=row>270389</th><td>Zdenko Zorko                             </td><td>22                                       </td><td>1972                                     </td><td>Handball                                 </td><td>Gold                                     </td></tr>\n",
       "\t<tr><th scope=row>270395</th><td>Zachary \"Zac\" Zorn                       </td><td>21                                       </td><td>1968                                     </td><td>Swimming                                 </td><td>Gold                                     </td></tr>\n",
       "\t<tr><th scope=row>270417</th><td>Cristian Zorzi                           </td><td>33                                       </td><td>2006                                     </td><td>Cross Country Skiing                     </td><td>Gold                                     </td></tr>\n",
       "\t<tr><th scope=row>270432</th><td>Zou Kai                                  </td><td>20                                       </td><td>2008                                     </td><td>Gymnastics                               </td><td>Gold                                     </td></tr>\n",
       "\t<tr><th scope=row>270433</th><td>Zou Kai                                  </td><td>20                                       </td><td>2008                                     </td><td>Gymnastics                               </td><td>Gold                                     </td></tr>\n",
       "\t<tr><th scope=row>270434</th><td>Zou Kai                                  </td><td>20                                       </td><td>2008                                     </td><td>Gymnastics                               </td><td>Gold                                     </td></tr>\n",
       "\t<tr><th scope=row>270435</th><td>Zou Kai                                  </td><td>24                                       </td><td>2012                                     </td><td>Gymnastics                               </td><td>Gold                                     </td></tr>\n",
       "\t<tr><th scope=row>270436</th><td>Zou Kai                                  </td><td>24                                       </td><td>2012                                     </td><td>Gymnastics                               </td><td>Gold                                     </td></tr>\n",
       "\t<tr><th scope=row>270440</th><td>Zou Shiming                              </td><td>27                                       </td><td>2008                                     </td><td>Boxing                                   </td><td>Gold                                     </td></tr>\n",
       "\t<tr><th scope=row>270441</th><td>Zou Shiming                              </td><td>31                                       </td><td>2012                                     </td><td>Boxing                                   </td><td>Gold                                     </td></tr>\n",
       "\t<tr><th scope=row>270478</th><td>Zdravko Zovko                            </td><td>29                                       </td><td>1984                                     </td><td>Handball                                 </td><td>Gold                                     </td></tr>\n",
       "\t<tr><th scope=row>270481</th><td>Vera Zozua (-Pyatnizin)                  </td><td>24                                       </td><td>1980                                     </td><td>Luge                                     </td><td>Gold                                     </td></tr>\n",
       "\t<tr><th scope=row>270515</th><td>Vedran Zrni                              </td><td>24                                       </td><td>2004                                     </td><td>Handball                                 </td><td>Gold                                     </td></tr>\n",
       "\t<tr><th scope=row>270553</th><td>Gyula Zsivtzky                           </td><td>31                                       </td><td>1968                                     </td><td>Athletics                                </td><td>Gold                                     </td></tr>\n",
       "\t<tr><th scope=row>270589</th><td>Olha Valentynivna Zubareva               </td><td>22                                       </td><td>1980                                     </td><td>Handball                                 </td><td>Gold                                     </td></tr>\n",
       "\t<tr><th scope=row>270610</th><td>Aleksandr Yuryevich Zubkov               </td><td>39                                       </td><td>2014                                     </td><td>Bobsleigh                                </td><td>Gold                                     </td></tr>\n",
       "\t<tr><th scope=row>270611</th><td>Aleksandr Yuryevich Zubkov               </td><td>39                                       </td><td>2014                                     </td><td>Bobsleigh                                </td><td>Gold                                     </td></tr>\n",
       "\t<tr><th scope=row>270642</th><td>Sergey Mikhaylovich Zubov                </td><td>21                                       </td><td>1992                                     </td><td>Ice Hockey                               </td><td>Gold                                     </td></tr>\n",
       "\t<tr><th scope=row>270771</th><td>Andreas Zlow                             </td><td>22                                       </td><td>1988                                     </td><td>Boxing                                   </td><td>Gold                                     </td></tr>\n",
       "\t<tr><th scope=row>270774</th><td>Robertas ulpa                            </td><td>20                                       </td><td>1980                                     </td><td>Swimming                                 </td><td>Gold                                     </td></tr>\n",
       "\t<tr><th scope=row>270877</th><td>Pirmin Zurbriggen                        </td><td>25                                       </td><td>1988                                     </td><td>Alpine Skiing                            </td><td>Gold                                     </td></tr>\n",
       "\t<tr><th scope=row>270935</th><td>Nataliya Vladimirovna Zuyeva             </td><td>19                                       </td><td>2008                                     </td><td>Rhythmic Gymnastics                      </td><td>Gold                                     </td></tr>\n",
       "\t<tr><th scope=row>270971</th><td>Ellina Aleksandrovna Zvereva (Kisheyeva-)</td><td>39                                       </td><td>2000                                     </td><td>Athletics                                </td><td>Gold                                     </td></tr>\n",
       "\t<tr><th scope=row>270982</th><td>Zurab Zviadauri                          </td><td>23                                       </td><td>2004                                     </td><td>Judo                                     </td><td>Gold                                     </td></tr>\n",
       "\t<tr><th scope=row>271010</th><td>Julia Zwehl                              </td><td>28                                       </td><td>2004                                     </td><td>Hockey                                   </td><td>Gold                                     </td></tr>\n",
       "\t<tr><th scope=row>271017</th><td>Ronald Ferdinand \"Ron\" Zwerver           </td><td>29                                       </td><td>1996                                     </td><td>Volleyball                               </td><td>Gold                                     </td></tr>\n",
       "\t<tr><th scope=row>271050</th><td>Henk Jan Zwolle                          </td><td>31                                       </td><td>1996                                     </td><td>Rowing                                   </td><td>Gold                                     </td></tr>\n",
       "\t<tr><th scope=row>271077</th><td>Galina Ivanovna Zybina (-Fyodorova)      </td><td>21                                       </td><td>1952                                     </td><td>Athletics                                </td><td>Gold                                     </td></tr>\n",
       "</tbody>\n",
       "</table>\n"
      ],
      "text/latex": [
       "\\begin{tabular}{r|lllll}\n",
       "  & Name & Age & Year & Sport & Medal\\\\\n",
       "\\hline\n",
       "\t43 & Paavo Johannes Aaltonen          & 28                               & 1948                             & Gymnastics                       & Gold                            \\\\\n",
       "\t45 & Paavo Johannes Aaltonen          & 28                               & 1948                             & Gymnastics                       & Gold                            \\\\\n",
       "\t49 & Paavo Johannes Aaltonen          & 28                               & 1948                             & Gymnastics                       & Gold                            \\\\\n",
       "\t61 & Kjetil Andr Aamodt               & 20                               & 1992                             & Alpine Skiing                    & Gold                            \\\\\n",
       "\t74 & Kjetil Andr Aamodt               & 30                               & 2002                             & Alpine Skiing                    & Gold                            \\\\\n",
       "\t77 & Kjetil Andr Aamodt               & 30                               & 2002                             & Alpine Skiing                    & Gold                            \\\\\n",
       "\t79 & Kjetil Andr Aamodt               & 34                               & 2006                             & Alpine Skiing                    & Gold                            \\\\\n",
       "\t173 & Aleksey Aleksandrovich Abalmasov & 28                               & 2008                             & Canoeing                         & Gold                            \\\\\n",
       "\t174 & Luc Abalo                        & 23                               & 2008                             & Handball                         & Gold                            \\\\\n",
       "\t175 & Luc Abalo                        & 27                               & 2012                             & Handball                         & Gold                            \\\\\n",
       "\t179 & Jouan Patrice Abanda Etong       & 22                               & 2000                             & Football                         & Gold                            \\\\\n",
       "\t183 & Jos Mara Abarca Plotas           & 22                               & 1996                             & Water Polo                       & Gold                            \\\\\n",
       "\t189 & Alejandro Abascal Garca          & 28                               & 1980                             & Sailing                          & Gold                            \\\\\n",
       "\t201 & Jol Marc Abati                   & 38                               & 2008                             & Handball                         & Gold                            \\\\\n",
       "\t219 & Agostino Abbagnale               & 22                               & 1988                             & Rowing                           & Gold                            \\\\\n",
       "\t220 & Agostino Abbagnale               & 29                               & 1996                             & Rowing                           & Gold                            \\\\\n",
       "\t221 & Agostino Abbagnale               & 34                               & 2000                             & Rowing                           & Gold                            \\\\\n",
       "\t222 & Carmine Abbagnale                & 22                               & 1984                             & Rowing                           & Gold                            \\\\\n",
       "\t223 & Carmine Abbagnale                & 26                               & 1988                             & Rowing                           & Gold                            \\\\\n",
       "\t227 & Giuseppe Abbagnale               & 25                               & 1984                             & Rowing                           & Gold                            \\\\\n",
       "\t228 & Giuseppe Abbagnale               & 29                               & 1988                             & Rowing                           & Gold                            \\\\\n",
       "\t525 & Lala Abdul Rashid                & 38                               & 1960                             & Hockey                           & Gold                            \\\\\n",
       "\t551 & Zagalav Abdulbekovich Abdulbekov & 26                               & 1972                             & Wrestling                        & Gold                            \\\\\n",
       "\t588 & Mukhammad Kadyr Abdullayev       & 26                               & 2000                             & Boxing                           & Gold                            \\\\\n",
       "\t592 & Namiq Yadulla Abdullayev         & 29                               & 2000                             & Wrestling                        & Gold                            \\\\\n",
       "\t610 & Julius Shareef Abdur-Rahim       & 23                               & 2000                             & Basketball                       & Gold                            \\\\\n",
       "\t621 & Andrey Khakimovich Abduvaliyev   & 26                               & 1992                             & Athletics                        & Gold                            \\\\\n",
       "\t637 & Masashi Abe                      & 28                               & 1994                             & Nordic Combined                  & Gold                            \\\\\n",
       "\t721 & Gezahgne Abera                   & 22                               & 2000                             & Athletics                        & Gold                            \\\\\n",
       "\t740 & Michael Brent Abernathy          & 22                               & 2000                             & Baseball                         & Gold                            \\\\\n",
       "\t... & ... & ... & ... & ... & ...\\\\\n",
       "\t270307 & Urka olnir                                & 30                                        & 2012                                      & Judo                                      & Gold                                     \\\\\n",
       "\t270327 & Epke Jan Zonderland                       & 26                                        & 2012                                      & Gymnastics                                & Gold                                     \\\\\n",
       "\t270389 & Zdenko Zorko                              & 22                                        & 1972                                      & Handball                                  & Gold                                     \\\\\n",
       "\t270395 & Zachary \"Zac\" Zorn                        & 21                                        & 1968                                      & Swimming                                  & Gold                                     \\\\\n",
       "\t270417 & Cristian Zorzi                            & 33                                        & 2006                                      & Cross Country Skiing                      & Gold                                     \\\\\n",
       "\t270432 & Zou Kai                                   & 20                                        & 2008                                      & Gymnastics                                & Gold                                     \\\\\n",
       "\t270433 & Zou Kai                                   & 20                                        & 2008                                      & Gymnastics                                & Gold                                     \\\\\n",
       "\t270434 & Zou Kai                                   & 20                                        & 2008                                      & Gymnastics                                & Gold                                     \\\\\n",
       "\t270435 & Zou Kai                                   & 24                                        & 2012                                      & Gymnastics                                & Gold                                     \\\\\n",
       "\t270436 & Zou Kai                                   & 24                                        & 2012                                      & Gymnastics                                & Gold                                     \\\\\n",
       "\t270440 & Zou Shiming                               & 27                                        & 2008                                      & Boxing                                    & Gold                                     \\\\\n",
       "\t270441 & Zou Shiming                               & 31                                        & 2012                                      & Boxing                                    & Gold                                     \\\\\n",
       "\t270478 & Zdravko Zovko                             & 29                                        & 1984                                      & Handball                                  & Gold                                     \\\\\n",
       "\t270481 & Vera Zozua (-Pyatnizin)                   & 24                                        & 1980                                      & Luge                                      & Gold                                     \\\\\n",
       "\t270515 & Vedran Zrni                               & 24                                        & 2004                                      & Handball                                  & Gold                                     \\\\\n",
       "\t270553 & Gyula Zsivtzky                            & 31                                        & 1968                                      & Athletics                                 & Gold                                     \\\\\n",
       "\t270589 & Olha Valentynivna Zubareva                & 22                                        & 1980                                      & Handball                                  & Gold                                     \\\\\n",
       "\t270610 & Aleksandr Yuryevich Zubkov                & 39                                        & 2014                                      & Bobsleigh                                 & Gold                                     \\\\\n",
       "\t270611 & Aleksandr Yuryevich Zubkov                & 39                                        & 2014                                      & Bobsleigh                                 & Gold                                     \\\\\n",
       "\t270642 & Sergey Mikhaylovich Zubov                 & 21                                        & 1992                                      & Ice Hockey                                & Gold                                     \\\\\n",
       "\t270771 & Andreas Zlow                              & 22                                        & 1988                                      & Boxing                                    & Gold                                     \\\\\n",
       "\t270774 & Robertas ulpa                             & 20                                        & 1980                                      & Swimming                                  & Gold                                     \\\\\n",
       "\t270877 & Pirmin Zurbriggen                         & 25                                        & 1988                                      & Alpine Skiing                             & Gold                                     \\\\\n",
       "\t270935 & Nataliya Vladimirovna Zuyeva              & 19                                        & 2008                                      & Rhythmic Gymnastics                       & Gold                                     \\\\\n",
       "\t270971 & Ellina Aleksandrovna Zvereva (Kisheyeva-) & 39                                        & 2000                                      & Athletics                                 & Gold                                     \\\\\n",
       "\t270982 & Zurab Zviadauri                           & 23                                        & 2004                                      & Judo                                      & Gold                                     \\\\\n",
       "\t271010 & Julia Zwehl                               & 28                                        & 2004                                      & Hockey                                    & Gold                                     \\\\\n",
       "\t271017 & Ronald Ferdinand \"Ron\" Zwerver            & 29                                        & 1996                                      & Volleyball                                & Gold                                     \\\\\n",
       "\t271050 & Henk Jan Zwolle                           & 31                                        & 1996                                      & Rowing                                    & Gold                                     \\\\\n",
       "\t271077 & Galina Ivanovna Zybina (-Fyodorova)       & 21                                        & 1952                                      & Athletics                                 & Gold                                     \\\\\n",
       "\\end{tabular}\n"
      ],
      "text/markdown": [
       "\n",
       "| <!--/--> | Name | Age | Year | Sport | Medal |\n",
       "|---|---|---|---|---|---|\n",
       "| 43 | Paavo Johannes Aaltonen          | 28                               | 1948                             | Gymnastics                       | Gold                             |\n",
       "| 45 | Paavo Johannes Aaltonen          | 28                               | 1948                             | Gymnastics                       | Gold                             |\n",
       "| 49 | Paavo Johannes Aaltonen          | 28                               | 1948                             | Gymnastics                       | Gold                             |\n",
       "| 61 | Kjetil Andr Aamodt               | 20                               | 1992                             | Alpine Skiing                    | Gold                             |\n",
       "| 74 | Kjetil Andr Aamodt               | 30                               | 2002                             | Alpine Skiing                    | Gold                             |\n",
       "| 77 | Kjetil Andr Aamodt               | 30                               | 2002                             | Alpine Skiing                    | Gold                             |\n",
       "| 79 | Kjetil Andr Aamodt               | 34                               | 2006                             | Alpine Skiing                    | Gold                             |\n",
       "| 173 | Aleksey Aleksandrovich Abalmasov | 28                               | 2008                             | Canoeing                         | Gold                             |\n",
       "| 174 | Luc Abalo                        | 23                               | 2008                             | Handball                         | Gold                             |\n",
       "| 175 | Luc Abalo                        | 27                               | 2012                             | Handball                         | Gold                             |\n",
       "| 179 | Jouan Patrice Abanda Etong       | 22                               | 2000                             | Football                         | Gold                             |\n",
       "| 183 | Jos Mara Abarca Plotas           | 22                               | 1996                             | Water Polo                       | Gold                             |\n",
       "| 189 | Alejandro Abascal Garca          | 28                               | 1980                             | Sailing                          | Gold                             |\n",
       "| 201 | Jol Marc Abati                   | 38                               | 2008                             | Handball                         | Gold                             |\n",
       "| 219 | Agostino Abbagnale               | 22                               | 1988                             | Rowing                           | Gold                             |\n",
       "| 220 | Agostino Abbagnale               | 29                               | 1996                             | Rowing                           | Gold                             |\n",
       "| 221 | Agostino Abbagnale               | 34                               | 2000                             | Rowing                           | Gold                             |\n",
       "| 222 | Carmine Abbagnale                | 22                               | 1984                             | Rowing                           | Gold                             |\n",
       "| 223 | Carmine Abbagnale                | 26                               | 1988                             | Rowing                           | Gold                             |\n",
       "| 227 | Giuseppe Abbagnale               | 25                               | 1984                             | Rowing                           | Gold                             |\n",
       "| 228 | Giuseppe Abbagnale               | 29                               | 1988                             | Rowing                           | Gold                             |\n",
       "| 525 | Lala Abdul Rashid                | 38                               | 1960                             | Hockey                           | Gold                             |\n",
       "| 551 | Zagalav Abdulbekovich Abdulbekov | 26                               | 1972                             | Wrestling                        | Gold                             |\n",
       "| 588 | Mukhammad Kadyr Abdullayev       | 26                               | 2000                             | Boxing                           | Gold                             |\n",
       "| 592 | Namiq Yadulla Abdullayev         | 29                               | 2000                             | Wrestling                        | Gold                             |\n",
       "| 610 | Julius Shareef Abdur-Rahim       | 23                               | 2000                             | Basketball                       | Gold                             |\n",
       "| 621 | Andrey Khakimovich Abduvaliyev   | 26                               | 1992                             | Athletics                        | Gold                             |\n",
       "| 637 | Masashi Abe                      | 28                               | 1994                             | Nordic Combined                  | Gold                             |\n",
       "| 721 | Gezahgne Abera                   | 22                               | 2000                             | Athletics                        | Gold                             |\n",
       "| 740 | Michael Brent Abernathy          | 22                               | 2000                             | Baseball                         | Gold                             |\n",
       "| ... | ... | ... | ... | ... | ... |\n",
       "| 270307 | Urka olnir                                | 30                                        | 2012                                      | Judo                                      | Gold                                      |\n",
       "| 270327 | Epke Jan Zonderland                       | 26                                        | 2012                                      | Gymnastics                                | Gold                                      |\n",
       "| 270389 | Zdenko Zorko                              | 22                                        | 1972                                      | Handball                                  | Gold                                      |\n",
       "| 270395 | Zachary \"Zac\" Zorn                        | 21                                        | 1968                                      | Swimming                                  | Gold                                      |\n",
       "| 270417 | Cristian Zorzi                            | 33                                        | 2006                                      | Cross Country Skiing                      | Gold                                      |\n",
       "| 270432 | Zou Kai                                   | 20                                        | 2008                                      | Gymnastics                                | Gold                                      |\n",
       "| 270433 | Zou Kai                                   | 20                                        | 2008                                      | Gymnastics                                | Gold                                      |\n",
       "| 270434 | Zou Kai                                   | 20                                        | 2008                                      | Gymnastics                                | Gold                                      |\n",
       "| 270435 | Zou Kai                                   | 24                                        | 2012                                      | Gymnastics                                | Gold                                      |\n",
       "| 270436 | Zou Kai                                   | 24                                        | 2012                                      | Gymnastics                                | Gold                                      |\n",
       "| 270440 | Zou Shiming                               | 27                                        | 2008                                      | Boxing                                    | Gold                                      |\n",
       "| 270441 | Zou Shiming                               | 31                                        | 2012                                      | Boxing                                    | Gold                                      |\n",
       "| 270478 | Zdravko Zovko                             | 29                                        | 1984                                      | Handball                                  | Gold                                      |\n",
       "| 270481 | Vera Zozua (-Pyatnizin)                   | 24                                        | 1980                                      | Luge                                      | Gold                                      |\n",
       "| 270515 | Vedran Zrni                               | 24                                        | 2004                                      | Handball                                  | Gold                                      |\n",
       "| 270553 | Gyula Zsivtzky                            | 31                                        | 1968                                      | Athletics                                 | Gold                                      |\n",
       "| 270589 | Olha Valentynivna Zubareva                | 22                                        | 1980                                      | Handball                                  | Gold                                      |\n",
       "| 270610 | Aleksandr Yuryevich Zubkov                | 39                                        | 2014                                      | Bobsleigh                                 | Gold                                      |\n",
       "| 270611 | Aleksandr Yuryevich Zubkov                | 39                                        | 2014                                      | Bobsleigh                                 | Gold                                      |\n",
       "| 270642 | Sergey Mikhaylovich Zubov                 | 21                                        | 1992                                      | Ice Hockey                                | Gold                                      |\n",
       "| 270771 | Andreas Zlow                              | 22                                        | 1988                                      | Boxing                                    | Gold                                      |\n",
       "| 270774 | Robertas ulpa                             | 20                                        | 1980                                      | Swimming                                  | Gold                                      |\n",
       "| 270877 | Pirmin Zurbriggen                         | 25                                        | 1988                                      | Alpine Skiing                             | Gold                                      |\n",
       "| 270935 | Nataliya Vladimirovna Zuyeva              | 19                                        | 2008                                      | Rhythmic Gymnastics                       | Gold                                      |\n",
       "| 270971 | Ellina Aleksandrovna Zvereva (Kisheyeva-) | 39                                        | 2000                                      | Athletics                                 | Gold                                      |\n",
       "| 270982 | Zurab Zviadauri                           | 23                                        | 2004                                      | Judo                                      | Gold                                      |\n",
       "| 271010 | Julia Zwehl                               | 28                                        | 2004                                      | Hockey                                    | Gold                                      |\n",
       "| 271017 | Ronald Ferdinand \"Ron\" Zwerver            | 29                                        | 1996                                      | Volleyball                                | Gold                                      |\n",
       "| 271050 | Henk Jan Zwolle                           | 31                                        | 1996                                      | Rowing                                    | Gold                                      |\n",
       "| 271077 | Galina Ivanovna Zybina (-Fyodorova)       | 21                                        | 1952                                      | Athletics                                 | Gold                                      |\n",
       "\n"
      ],
      "text/plain": [
       "       Name                                      Age Year Sport               \n",
       "43     Paavo Johannes Aaltonen                   28  1948 Gymnastics          \n",
       "45     Paavo Johannes Aaltonen                   28  1948 Gymnastics          \n",
       "49     Paavo Johannes Aaltonen                   28  1948 Gymnastics          \n",
       "61     Kjetil Andr Aamodt                        20  1992 Alpine Skiing       \n",
       "74     Kjetil Andr Aamodt                        30  2002 Alpine Skiing       \n",
       "77     Kjetil Andr Aamodt                        30  2002 Alpine Skiing       \n",
       "79     Kjetil Andr Aamodt                        34  2006 Alpine Skiing       \n",
       "173    Aleksey Aleksandrovich Abalmasov          28  2008 Canoeing            \n",
       "174    Luc Abalo                                 23  2008 Handball            \n",
       "175    Luc Abalo                                 27  2012 Handball            \n",
       "179    Jouan Patrice Abanda Etong                22  2000 Football            \n",
       "183    Jos Mara Abarca Plotas                    22  1996 Water Polo          \n",
       "189    Alejandro Abascal Garca                   28  1980 Sailing             \n",
       "201    Jol Marc Abati                            38  2008 Handball            \n",
       "219    Agostino Abbagnale                        22  1988 Rowing              \n",
       "220    Agostino Abbagnale                        29  1996 Rowing              \n",
       "221    Agostino Abbagnale                        34  2000 Rowing              \n",
       "222    Carmine Abbagnale                         22  1984 Rowing              \n",
       "223    Carmine Abbagnale                         26  1988 Rowing              \n",
       "227    Giuseppe Abbagnale                        25  1984 Rowing              \n",
       "228    Giuseppe Abbagnale                        29  1988 Rowing              \n",
       "525    Lala Abdul Rashid                         38  1960 Hockey              \n",
       "551    Zagalav Abdulbekovich Abdulbekov          26  1972 Wrestling           \n",
       "588    Mukhammad Kadyr Abdullayev                26  2000 Boxing              \n",
       "592    Namiq Yadulla Abdullayev                  29  2000 Wrestling           \n",
       "610    Julius Shareef Abdur-Rahim                23  2000 Basketball          \n",
       "621    Andrey Khakimovich Abduvaliyev            26  1992 Athletics           \n",
       "637    Masashi Abe                               28  1994 Nordic Combined     \n",
       "721    Gezahgne Abera                            22  2000 Athletics           \n",
       "740    Michael Brent Abernathy                   22  2000 Baseball            \n",
       "...    ...                                       ... ...  ...                 \n",
       "270307 Urka olnir                                30  2012 Judo                \n",
       "270327 Epke Jan Zonderland                       26  2012 Gymnastics          \n",
       "270389 Zdenko Zorko                              22  1972 Handball            \n",
       "270395 Zachary \"Zac\" Zorn                        21  1968 Swimming            \n",
       "270417 Cristian Zorzi                            33  2006 Cross Country Skiing\n",
       "270432 Zou Kai                                   20  2008 Gymnastics          \n",
       "270433 Zou Kai                                   20  2008 Gymnastics          \n",
       "270434 Zou Kai                                   20  2008 Gymnastics          \n",
       "270435 Zou Kai                                   24  2012 Gymnastics          \n",
       "270436 Zou Kai                                   24  2012 Gymnastics          \n",
       "270440 Zou Shiming                               27  2008 Boxing              \n",
       "270441 Zou Shiming                               31  2012 Boxing              \n",
       "270478 Zdravko Zovko                             29  1984 Handball            \n",
       "270481 Vera Zozua (-Pyatnizin)                   24  1980 Luge                \n",
       "270515 Vedran Zrni                               24  2004 Handball            \n",
       "270553 Gyula Zsivtzky                            31  1968 Athletics           \n",
       "270589 Olha Valentynivna Zubareva                22  1980 Handball            \n",
       "270610 Aleksandr Yuryevich Zubkov                39  2014 Bobsleigh           \n",
       "270611 Aleksandr Yuryevich Zubkov                39  2014 Bobsleigh           \n",
       "270642 Sergey Mikhaylovich Zubov                 21  1992 Ice Hockey          \n",
       "270771 Andreas Zlow                              22  1988 Boxing              \n",
       "270774 Robertas ulpa                             20  1980 Swimming            \n",
       "270877 Pirmin Zurbriggen                         25  1988 Alpine Skiing       \n",
       "270935 Nataliya Vladimirovna Zuyeva              19  2008 Rhythmic Gymnastics \n",
       "270971 Ellina Aleksandrovna Zvereva (Kisheyeva-) 39  2000 Athletics           \n",
       "270982 Zurab Zviadauri                           23  2004 Judo                \n",
       "271010 Julia Zwehl                               28  2004 Hockey              \n",
       "271017 Ronald Ferdinand \"Ron\" Zwerver            29  1996 Volleyball          \n",
       "271050 Henk Jan Zwolle                           31  1996 Rowing              \n",
       "271077 Galina Ivanovna Zybina (-Fyodorova)       21  1952 Athletics           \n",
       "       Medal\n",
       "43     Gold \n",
       "45     Gold \n",
       "49     Gold \n",
       "61     Gold \n",
       "74     Gold \n",
       "77     Gold \n",
       "79     Gold \n",
       "173    Gold \n",
       "174    Gold \n",
       "175    Gold \n",
       "179    Gold \n",
       "183    Gold \n",
       "189    Gold \n",
       "201    Gold \n",
       "219    Gold \n",
       "220    Gold \n",
       "221    Gold \n",
       "222    Gold \n",
       "223    Gold \n",
       "227    Gold \n",
       "228    Gold \n",
       "525    Gold \n",
       "551    Gold \n",
       "588    Gold \n",
       "592    Gold \n",
       "610    Gold \n",
       "621    Gold \n",
       "637    Gold \n",
       "721    Gold \n",
       "740    Gold \n",
       "...    ...  \n",
       "270307 Gold \n",
       "270327 Gold \n",
       "270389 Gold \n",
       "270395 Gold \n",
       "270417 Gold \n",
       "270432 Gold \n",
       "270433 Gold \n",
       "270434 Gold \n",
       "270435 Gold \n",
       "270436 Gold \n",
       "270440 Gold \n",
       "270441 Gold \n",
       "270478 Gold \n",
       "270481 Gold \n",
       "270515 Gold \n",
       "270553 Gold \n",
       "270589 Gold \n",
       "270610 Gold \n",
       "270611 Gold \n",
       "270642 Gold \n",
       "270771 Gold \n",
       "270774 Gold \n",
       "270877 Gold \n",
       "270935 Gold \n",
       "270971 Gold \n",
       "270982 Gold \n",
       "271010 Gold \n",
       "271017 Gold \n",
       "271050 Gold \n",
       "271077 Gold "
      ]
     },
     "metadata": {},
     "output_type": "display_data"
    }
   ],
   "source": [
    "a"
   ]
  },
  {
   "cell_type": "markdown",
   "metadata": {},
   "source": [
    "Below first 10 rows of athletes of age 34 and below are displayed."
   ]
  },
  {
   "cell_type": "code",
   "execution_count": 51,
   "metadata": {},
   "outputs": [
    {
     "data": {
      "text/html": [
       "<table>\n",
       "<thead><tr><th></th><th scope=col>Name</th><th scope=col>Age</th><th scope=col>Year</th><th scope=col>Sport</th><th scope=col>Medal</th></tr></thead>\n",
       "<tbody>\n",
       "\t<tr><th scope=row>43</th><td>Paavo Johannes Aaltonen         </td><td>28                              </td><td>1948                            </td><td>Gymnastics                      </td><td>Gold                            </td></tr>\n",
       "\t<tr><th scope=row>45</th><td>Paavo Johannes Aaltonen         </td><td>28                              </td><td>1948                            </td><td>Gymnastics                      </td><td>Gold                            </td></tr>\n",
       "\t<tr><th scope=row>49</th><td>Paavo Johannes Aaltonen         </td><td>28                              </td><td>1948                            </td><td>Gymnastics                      </td><td>Gold                            </td></tr>\n",
       "\t<tr><th scope=row>61</th><td>Kjetil Andr Aamodt              </td><td>20                              </td><td>1992                            </td><td>Alpine Skiing                   </td><td>Gold                            </td></tr>\n",
       "\t<tr><th scope=row>74</th><td>Kjetil Andr Aamodt              </td><td>30                              </td><td>2002                            </td><td>Alpine Skiing                   </td><td>Gold                            </td></tr>\n",
       "\t<tr><th scope=row>77</th><td>Kjetil Andr Aamodt              </td><td>30                              </td><td>2002                            </td><td>Alpine Skiing                   </td><td>Gold                            </td></tr>\n",
       "\t<tr><th scope=row>173</th><td>Aleksey Aleksandrovich Abalmasov</td><td>28                              </td><td>2008                            </td><td>Canoeing                        </td><td>Gold                            </td></tr>\n",
       "\t<tr><th scope=row>174</th><td>Luc Abalo                       </td><td>23                              </td><td>2008                            </td><td>Handball                        </td><td>Gold                            </td></tr>\n",
       "\t<tr><th scope=row>175</th><td>Luc Abalo                       </td><td>27                              </td><td>2012                            </td><td>Handball                        </td><td>Gold                            </td></tr>\n",
       "\t<tr><th scope=row>179</th><td>Jouan Patrice Abanda Etong      </td><td>22                              </td><td>2000                            </td><td>Football                        </td><td>Gold                            </td></tr>\n",
       "</tbody>\n",
       "</table>\n"
      ],
      "text/latex": [
       "\\begin{tabular}{r|lllll}\n",
       "  & Name & Age & Year & Sport & Medal\\\\\n",
       "\\hline\n",
       "\t43 & Paavo Johannes Aaltonen          & 28                               & 1948                             & Gymnastics                       & Gold                            \\\\\n",
       "\t45 & Paavo Johannes Aaltonen          & 28                               & 1948                             & Gymnastics                       & Gold                            \\\\\n",
       "\t49 & Paavo Johannes Aaltonen          & 28                               & 1948                             & Gymnastics                       & Gold                            \\\\\n",
       "\t61 & Kjetil Andr Aamodt               & 20                               & 1992                             & Alpine Skiing                    & Gold                            \\\\\n",
       "\t74 & Kjetil Andr Aamodt               & 30                               & 2002                             & Alpine Skiing                    & Gold                            \\\\\n",
       "\t77 & Kjetil Andr Aamodt               & 30                               & 2002                             & Alpine Skiing                    & Gold                            \\\\\n",
       "\t173 & Aleksey Aleksandrovich Abalmasov & 28                               & 2008                             & Canoeing                         & Gold                            \\\\\n",
       "\t174 & Luc Abalo                        & 23                               & 2008                             & Handball                         & Gold                            \\\\\n",
       "\t175 & Luc Abalo                        & 27                               & 2012                             & Handball                         & Gold                            \\\\\n",
       "\t179 & Jouan Patrice Abanda Etong       & 22                               & 2000                             & Football                         & Gold                            \\\\\n",
       "\\end{tabular}\n"
      ],
      "text/markdown": [
       "\n",
       "| <!--/--> | Name | Age | Year | Sport | Medal |\n",
       "|---|---|---|---|---|---|\n",
       "| 43 | Paavo Johannes Aaltonen          | 28                               | 1948                             | Gymnastics                       | Gold                             |\n",
       "| 45 | Paavo Johannes Aaltonen          | 28                               | 1948                             | Gymnastics                       | Gold                             |\n",
       "| 49 | Paavo Johannes Aaltonen          | 28                               | 1948                             | Gymnastics                       | Gold                             |\n",
       "| 61 | Kjetil Andr Aamodt               | 20                               | 1992                             | Alpine Skiing                    | Gold                             |\n",
       "| 74 | Kjetil Andr Aamodt               | 30                               | 2002                             | Alpine Skiing                    | Gold                             |\n",
       "| 77 | Kjetil Andr Aamodt               | 30                               | 2002                             | Alpine Skiing                    | Gold                             |\n",
       "| 173 | Aleksey Aleksandrovich Abalmasov | 28                               | 2008                             | Canoeing                         | Gold                             |\n",
       "| 174 | Luc Abalo                        | 23                               | 2008                             | Handball                         | Gold                             |\n",
       "| 175 | Luc Abalo                        | 27                               | 2012                             | Handball                         | Gold                             |\n",
       "| 179 | Jouan Patrice Abanda Etong       | 22                               | 2000                             | Football                         | Gold                             |\n",
       "\n"
      ],
      "text/plain": [
       "    Name                             Age Year Sport         Medal\n",
       "43  Paavo Johannes Aaltonen          28  1948 Gymnastics    Gold \n",
       "45  Paavo Johannes Aaltonen          28  1948 Gymnastics    Gold \n",
       "49  Paavo Johannes Aaltonen          28  1948 Gymnastics    Gold \n",
       "61  Kjetil Andr Aamodt               20  1992 Alpine Skiing Gold \n",
       "74  Kjetil Andr Aamodt               30  2002 Alpine Skiing Gold \n",
       "77  Kjetil Andr Aamodt               30  2002 Alpine Skiing Gold \n",
       "173 Aleksey Aleksandrovich Abalmasov 28  2008 Canoeing      Gold \n",
       "174 Luc Abalo                        23  2008 Handball      Gold \n",
       "175 Luc Abalo                        27  2012 Handball      Gold \n",
       "179 Jouan Patrice Abanda Etong       22  2000 Football      Gold "
      ]
     },
     "metadata": {},
     "output_type": "display_data"
    }
   ],
   "source": [
    "head(a[a$Age < 34, c(\"Name\", \"Age\", \"Year\", \"Sport\", \"Medal\")], n=10)"
   ]
  },
  {
   "cell_type": "markdown",
   "metadata": {},
   "source": [
    "Here we retreive the first 10 rows with year greater than 2009."
   ]
  },
  {
   "cell_type": "code",
   "execution_count": 50,
   "metadata": {},
   "outputs": [
    {
     "data": {
      "text/html": [
       "<table>\n",
       "<thead><tr><th></th><th scope=col>Name</th><th scope=col>Age</th><th scope=col>Year</th><th scope=col>Sport</th><th scope=col>Medal</th></tr></thead>\n",
       "<tbody>\n",
       "\t<tr><th scope=row>175</th><td>Luc Abalo                           </td><td>27                                  </td><td>2012                                </td><td>Handball                            </td><td>Gold                                </td></tr>\n",
       "\t<tr><th scope=row>1081</th><td>Ahmad Abughaush                     </td><td>20                                  </td><td>2016                                </td><td>Taekwondo                           </td><td>Gold                                </td></tr>\n",
       "\t<tr><th scope=row>1127</th><td>William Accambray                   </td><td>24                                  </td><td>2012                                </td><td>Handball                            </td><td>Gold                                </td></tr>\n",
       "\t<tr><th scope=row>1495</th><td>Nicola Virginia Adams               </td><td>29                                  </td><td>2012                                </td><td>Boxing                              </td><td>Gold                                </td></tr>\n",
       "\t<tr><th scope=row>1496</th><td>Nicola Virginia Adams               </td><td>33                                  </td><td>2016                                </td><td>Boxing                              </td><td>Gold                                </td></tr>\n",
       "\t<tr><th scope=row>1529</th><td>Valerie Kasanita Adams-Vili (-Price)</td><td>27                                  </td><td>2012                                </td><td>Athletics                           </td><td>Gold                                </td></tr>\n",
       "\t<tr><th scope=row>1534</th><td>Filip Kamil Adamski                 </td><td>29                                  </td><td>2012                                </td><td>Rowing                              </td><td>Gold                                </td></tr>\n",
       "\t<tr><th scope=row>1669</th><td>Adenzia Aparecida Ferreira da Silva </td><td>25                                  </td><td>2012                                </td><td>Volleyball                          </td><td>Gold                                </td></tr>\n",
       "\t<tr><th scope=row>1845</th><td>Nathan Ghar-Jun Adrian              </td><td>23                                  </td><td>2012                                </td><td>Swimming                            </td><td>Gold                                </td></tr>\n",
       "\t<tr><th scope=row>1847</th><td>Nathan Ghar-Jun Adrian              </td><td>23                                  </td><td>2012                                </td><td>Swimming                            </td><td>Gold                                </td></tr>\n",
       "</tbody>\n",
       "</table>\n"
      ],
      "text/latex": [
       "\\begin{tabular}{r|lllll}\n",
       "  & Name & Age & Year & Sport & Medal\\\\\n",
       "\\hline\n",
       "\t175 & Luc Abalo                            & 27                                   & 2012                                 & Handball                             & Gold                                \\\\\n",
       "\t1081 & Ahmad Abughaush                      & 20                                   & 2016                                 & Taekwondo                            & Gold                                \\\\\n",
       "\t1127 & William Accambray                    & 24                                   & 2012                                 & Handball                             & Gold                                \\\\\n",
       "\t1495 & Nicola Virginia Adams                & 29                                   & 2012                                 & Boxing                               & Gold                                \\\\\n",
       "\t1496 & Nicola Virginia Adams                & 33                                   & 2016                                 & Boxing                               & Gold                                \\\\\n",
       "\t1529 & Valerie Kasanita Adams-Vili (-Price) & 27                                   & 2012                                 & Athletics                            & Gold                                \\\\\n",
       "\t1534 & Filip Kamil Adamski                  & 29                                   & 2012                                 & Rowing                               & Gold                                \\\\\n",
       "\t1669 & Adenzia Aparecida Ferreira da Silva  & 25                                   & 2012                                 & Volleyball                           & Gold                                \\\\\n",
       "\t1845 & Nathan Ghar-Jun Adrian               & 23                                   & 2012                                 & Swimming                             & Gold                                \\\\\n",
       "\t1847 & Nathan Ghar-Jun Adrian               & 23                                   & 2012                                 & Swimming                             & Gold                                \\\\\n",
       "\\end{tabular}\n"
      ],
      "text/markdown": [
       "\n",
       "| <!--/--> | Name | Age | Year | Sport | Medal |\n",
       "|---|---|---|---|---|---|\n",
       "| 175 | Luc Abalo                            | 27                                   | 2012                                 | Handball                             | Gold                                 |\n",
       "| 1081 | Ahmad Abughaush                      | 20                                   | 2016                                 | Taekwondo                            | Gold                                 |\n",
       "| 1127 | William Accambray                    | 24                                   | 2012                                 | Handball                             | Gold                                 |\n",
       "| 1495 | Nicola Virginia Adams                | 29                                   | 2012                                 | Boxing                               | Gold                                 |\n",
       "| 1496 | Nicola Virginia Adams                | 33                                   | 2016                                 | Boxing                               | Gold                                 |\n",
       "| 1529 | Valerie Kasanita Adams-Vili (-Price) | 27                                   | 2012                                 | Athletics                            | Gold                                 |\n",
       "| 1534 | Filip Kamil Adamski                  | 29                                   | 2012                                 | Rowing                               | Gold                                 |\n",
       "| 1669 | Adenzia Aparecida Ferreira da Silva  | 25                                   | 2012                                 | Volleyball                           | Gold                                 |\n",
       "| 1845 | Nathan Ghar-Jun Adrian               | 23                                   | 2012                                 | Swimming                             | Gold                                 |\n",
       "| 1847 | Nathan Ghar-Jun Adrian               | 23                                   | 2012                                 | Swimming                             | Gold                                 |\n",
       "\n"
      ],
      "text/plain": [
       "     Name                                 Age Year Sport      Medal\n",
       "175  Luc Abalo                            27  2012 Handball   Gold \n",
       "1081 Ahmad Abughaush                      20  2016 Taekwondo  Gold \n",
       "1127 William Accambray                    24  2012 Handball   Gold \n",
       "1495 Nicola Virginia Adams                29  2012 Boxing     Gold \n",
       "1496 Nicola Virginia Adams                33  2016 Boxing     Gold \n",
       "1529 Valerie Kasanita Adams-Vili (-Price) 27  2012 Athletics  Gold \n",
       "1534 Filip Kamil Adamski                  29  2012 Rowing     Gold \n",
       "1669 Adenzia Aparecida Ferreira da Silva  25  2012 Volleyball Gold \n",
       "1845 Nathan Ghar-Jun Adrian               23  2012 Swimming   Gold \n",
       "1847 Nathan Ghar-Jun Adrian               23  2012 Swimming   Gold "
      ]
     },
     "metadata": {},
     "output_type": "display_data"
    }
   ],
   "source": [
    "head(a[a$Year > 2009, c(\"Name\", \"Age\", \"Year\", \"Sport\", \"Medal\")], n=10)"
   ]
  },
  {
   "cell_type": "markdown",
   "metadata": {},
   "source": [
    "Here we have the bottom six rows of the count of the different sports played throughout these years. "
   ]
  },
  {
   "cell_type": "code",
   "execution_count": 61,
   "metadata": {},
   "outputs": [
    {
     "data": {
      "text/html": [
       "<table>\n",
       "<thead><tr><th></th><th scope=col>Sport</th></tr></thead>\n",
       "<tbody>\n",
       "\t<tr><th scope=row>39297</th><td>Table Tennis    </td></tr>\n",
       "\t<tr><th scope=row>56783</th><td>Trampolining    </td></tr>\n",
       "\t<tr><th scope=row>74925</th><td>Skeleton        </td></tr>\n",
       "\t<tr><th scope=row>96761</th><td>Art Competitions</td></tr>\n",
       "\t<tr><th scope=row>119988</th><td>Rugby           </td></tr>\n",
       "\t<tr><th scope=row>182086</th><td>Golf            </td></tr>\n",
       "</tbody>\n",
       "</table>\n"
      ],
      "text/latex": [
       "\\begin{tabular}{r|l}\n",
       "  & Sport\\\\\n",
       "\\hline\n",
       "\t39297 & Table Tennis    \\\\\n",
       "\t56783 & Trampolining    \\\\\n",
       "\t74925 & Skeleton        \\\\\n",
       "\t96761 & Art Competitions\\\\\n",
       "\t119988 & Rugby           \\\\\n",
       "\t182086 & Golf            \\\\\n",
       "\\end{tabular}\n"
      ],
      "text/markdown": [
       "\n",
       "| <!--/--> | Sport |\n",
       "|---|---|\n",
       "| 39297 | Table Tennis     |\n",
       "| 56783 | Trampolining     |\n",
       "| 74925 | Skeleton         |\n",
       "| 96761 | Art Competitions |\n",
       "| 119988 | Rugby            |\n",
       "| 182086 | Golf             |\n",
       "\n"
      ],
      "text/plain": [
       "       Sport           \n",
       "39297  Table Tennis    \n",
       "56783  Trampolining    \n",
       "74925  Skeleton        \n",
       "96761  Art Competitions\n",
       "119988 Rugby           \n",
       "182086 Golf            "
      ]
     },
     "metadata": {},
     "output_type": "display_data"
    }
   ],
   "source": [
    "tail(unique(a[\"Sport\"]))"
   ]
  },
  {
   "cell_type": "markdown",
   "metadata": {},
   "source": [
    "***"
   ]
  },
  {
   "cell_type": "markdown",
   "metadata": {},
   "source": [
    "## 5. Plot"
   ]
  },
  {
   "cell_type": "markdown",
   "metadata": {},
   "source": [
    "Here we now find the ratio of athletes below the age of 34."
   ]
  },
  {
   "cell_type": "code",
   "execution_count": 115,
   "metadata": {},
   "outputs": [],
   "source": [
    "s_age.pct <- nrow(athlete[athlete$Age < 34, c(\"ID\", \"Age\")]) / nrow(athlete)"
   ]
  },
  {
   "cell_type": "code",
   "execution_count": 116,
   "metadata": {},
   "outputs": [
    {
     "data": {
      "text/html": [
       "0.940127895033299"
      ],
      "text/latex": [
       "0.940127895033299"
      ],
      "text/markdown": [
       "0.940127895033299"
      ],
      "text/plain": [
       "[1] 0.9401279"
      ]
     },
     "metadata": {},
     "output_type": "display_data"
    }
   ],
   "source": [
    "s_age.pct"
   ]
  },
  {
   "cell_type": "markdown",
   "metadata": {},
   "source": [
    "Here we find the ratio of athletes above the age of 34. "
   ]
  },
  {
   "cell_type": "code",
   "execution_count": 104,
   "metadata": {},
   "outputs": [],
   "source": [
    "b_age.pct <- nrow(athlete[athlete$Age > 34, c(\"ID\", \"Age\")]) / nrow(athlete)"
   ]
  },
  {
   "cell_type": "code",
   "execution_count": 105,
   "metadata": {},
   "outputs": [
    {
     "data": {
      "text/html": [
       "0.0448626619396309"
      ],
      "text/latex": [
       "0.0448626619396309"
      ],
      "text/markdown": [
       "0.0448626619396309"
      ],
      "text/plain": [
       "[1] 0.04486266"
      ]
     },
     "metadata": {},
     "output_type": "display_data"
    }
   ],
   "source": [
    "b_age.pct"
   ]
  },
  {
   "cell_type": "markdown",
   "metadata": {},
   "source": [
    "We assign the ratios to b."
   ]
  },
  {
   "cell_type": "code",
   "execution_count": 106,
   "metadata": {},
   "outputs": [],
   "source": [
    "b <- c(s_age.pct, b_age.pct)"
   ]
  },
  {
   "cell_type": "markdown",
   "metadata": {},
   "source": [
    "Here we create a pie chart with title, radius and respective labels."
   ]
  },
  {
   "cell_type": "code",
   "execution_count": 122,
   "metadata": {},
   "outputs": [
    {
     "data": {
      "image/png": "[encoded data removed]",
      "text/plain": [
       "Plot with title \"Pie Chart\""
      ]
     },
     "metadata": {},
     "output_type": "display_data"
    }
   ],
   "source": [
    "pie(b, main=\"Pie Chart\", radius = 0.5, labels = c(\"Athletes below 34 years\", \"Athletes above 34 years\"))"
   ]
  },
  {
   "cell_type": "markdown",
   "metadata": {},
   "source": [
    "From this pie chart we understand that the participation in the olympics is a lot more from the age group of 34 and below compared to 34 and above. Hence Kellog's should sponsor an athlete from that age group."
   ]
  },
  {
   "cell_type": "markdown",
   "metadata": {},
   "source": [
    "***"
   ]
  },
  {
   "cell_type": "markdown",
   "metadata": {},
   "source": [
    "## 6. Summary"
   ]
  },
  {
   "cell_type": "markdown",
   "metadata": {},
   "source": [
    "It is said that cereal is mostly consumed by people between the age group of 18 to 34 years, sponsoring an athlete from this age group will be more relevant to the audience and more benefiting for the brand in terms of advertisement. And also participation in the olympics is more from athletes below the age of 34 as we can see from the pie chart above. "
   ]
  },
  {
   "cell_type": "markdown",
   "metadata": {},
   "source": [
    "***"
   ]
  },
  {
   "cell_type": "markdown",
   "metadata": {},
   "source": [
    "## 7. Recommendations"
   ]
  },
  {
   "cell_type": "markdown",
   "metadata": {},
   "source": [
    "Kellog's should sponsor an athlete below the age of 34 which keeps them relevant with their brand audience and also the \n",
    "above analysis tells us that there is more participation and the winning streak is high among athletes below the age \n",
    "of 34. The age 34 is taken as a point after reading that the age group of 18 - 34 years eat more cereal compared to the others. Kellog's will definitely benefit and will attract more youngsters who will try the different breakfast options that Kellog's offers. The right athlete to sponsor would be someone from the age group of below 34 years and has played consistently for the past 10 years atleast, this gives the brand assurance that this athlete is recognized, the audience will be waiting for next year and rooting for too. \n",
    "\n"
   ]
  },
  {
   "cell_type": "markdown",
   "metadata": {},
   "source": [
    "***"
   ]
  }
 ],
 "metadata": {
  "kernelspec": {
   "display_name": "R",
   "language": "R",
   "name": "ir"
  },
  "language_info": {
   "codemirror_mode": "r",
   "file_extension": ".r",
   "mimetype": "text/x-r-source",
   "name": "R",
   "pygments_lexer": "r",
   "version": "3.6.1"
  }
 },
 "nbformat": 4,
 "nbformat_minor": 2
}
